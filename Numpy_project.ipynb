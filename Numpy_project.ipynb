{
  "nbformat": 4,
  "nbformat_minor": 0,
  "metadata": {
    "colab": {
      "name": "Numpy project.ipynb",
      "provenance": []
    },
    "kernelspec": {
      "name": "python3",
      "display_name": "Python 3"
    },
    "language_info": {
      "name": "python"
    }
  },
  "cells": [
    {
      "cell_type": "code",
      "source": [
        "#loading the data for accessing\n",
        "data_file = 'KAG_Conversion_Data.csv'\n",
        "import numpy as np\n",
        "\n",
        "data = np.genfromtxt(data_file, delimiter=\",\", skip_header=1, dtype= int)\n",
        "data_str=np.genfromtxt(data_file, delimiter=',',skip_header=1,dtype=str)\n",
        "data_fl=np.genfromtxt(data_file,delimiter=',',skip_header=1,dtype=float)\n",
        "\n",
        "print(\"\\nData: \\n\\n\", data)"
      ],
      "metadata": {
        "colab": {
          "base_uri": "https://localhost:8080/"
        },
        "id": "8U1k8zQJKUsp",
        "outputId": "691b9be7-0ddf-4b3c-823c-e43e0672f844"
      },
      "execution_count": null,
      "outputs": [
        {
          "output_type": "stream",
          "name": "stdout",
          "text": [
            "\n",
            "Data: \n",
            "\n",
            " [[ 708746     916  103916 ...      -1       2       1]\n",
            " [ 708749     916  103917 ...      -1       2       0]\n",
            " [ 708771     916  103920 ...       0       1       0]\n",
            " ...\n",
            " [1314412    1178  179979 ...      -1       2       0]\n",
            " [1314414    1178  179981 ...      -1       8       2]\n",
            " [1314415    1178  179982 ...      -1       5       2]]\n"
          ]
        }
      ]
    },
    {
      "cell_type": "code",
      "source": [
        "data_str"
      ],
      "metadata": {
        "colab": {
          "base_uri": "https://localhost:8080/"
        },
        "id": "PcLKAucFyrlO",
        "outputId": "0640faff-a5d2-4ac7-eb06-b3131bf61e34"
      },
      "execution_count": null,
      "outputs": [
        {
          "output_type": "execute_result",
          "data": {
            "text/plain": [
              "array([['708746', '916', '103916', ..., '1.429999948', '2', '1'],\n",
              "       ['708749', '916', '103917', ..., '1.820000023', '2', '0'],\n",
              "       ['708771', '916', '103920', ..., '0', '1', '0'],\n",
              "       ...,\n",
              "       ['1314412', '1178', '179979', ..., '40.28999949', '2', '0'],\n",
              "       ['1314414', '1178', '179981', ..., '198.7100005', '8', '2'],\n",
              "       ['1314415', '1178', '179982', ..., '165.6099987', '5', '2']],\n",
              "      dtype='<U11')"
            ]
          },
          "metadata": {},
          "execution_count": 35
        }
      ]
    },
    {
      "cell_type": "code",
      "source": [
        "#identify unique campaigns\n",
        "ad_campaigns = np.array(data[:,1])\n",
        "print(ad_campaigns)"
      ],
      "metadata": {
        "colab": {
          "base_uri": "https://localhost:8080/"
        },
        "id": "fQb8-oQUn5UQ",
        "outputId": "32adbfb8-b313-4ff0-fe6d-de4beeffc852"
      },
      "execution_count": null,
      "outputs": [
        {
          "output_type": "stream",
          "name": "stdout",
          "text": [
            "[ 916  916  916 ... 1178 1178 1178]\n"
          ]
        }
      ]
    },
    {
      "cell_type": "code",
      "source": [
        "#pulling out unique ad_campaign\n",
        "np.unique(ad_campaigns)"
      ],
      "metadata": {
        "colab": {
          "base_uri": "https://localhost:8080/"
        },
        "id": "fWkAi-j3oe_n",
        "outputId": "0b935e99-372e-422f-c2bf-08809fdfc66b"
      },
      "execution_count": null,
      "outputs": [
        {
          "output_type": "execute_result",
          "data": {
            "text/plain": [
              "array([ 916,  936, 1178])"
            ]
          },
          "metadata": {},
          "execution_count": 25
        }
      ]
    },
    {
      "cell_type": "code",
      "source": [
        "data[:,7]"
      ],
      "metadata": {
        "colab": {
          "base_uri": "https://localhost:8080/"
        },
        "id": "-KfzSOyn16SV",
        "outputId": "b826722f-e598-48b7-9168-17436065ecde"
      },
      "execution_count": null,
      "outputs": [
        {
          "output_type": "execute_result",
          "data": {
            "text/plain": [
              "array([  1,   2,   0, ...,  28, 135, 114])"
            ]
          },
          "metadata": {},
          "execution_count": 50
        }
      ]
    },
    {
      "cell_type": "code",
      "source": [
        "#determine how many times each capaign was run\n",
        "run_frequency = np.unique(ad_campaigns,return_counts=True)\n",
        "print(run_frequency)"
      ],
      "metadata": {
        "colab": {
          "base_uri": "https://localhost:8080/"
        },
        "id": "SMnrvNTsox6S",
        "outputId": "536152b2-fb92-4aec-e207-6284d31445a6"
      },
      "execution_count": null,
      "outputs": [
        {
          "output_type": "stream",
          "name": "stdout",
          "text": [
            "(array([ 916,  936, 1178]), array([ 54, 464, 625]))\n"
          ]
        }
      ]
    },
    {
      "cell_type": "markdown",
      "source": [
        "The result means ad campaign 916 was runned 54times, ad campaign 936 was runned 464times and ad campaign 1178 was runned 625times\n"
      ],
      "metadata": {
        "id": "k-NTTZr6qyeY"
      }
    },
    {
      "cell_type": "code",
      "source": [
        "#identify the target age group\n",
        "age_group = np.array(data_str[:,3])\n",
        "print(age_group)\n",
        "\n"
      ],
      "metadata": {
        "id": "JNXQSSpPrCfW",
        "outputId": "61e0a495-ab08-4595-d5eb-0e6b56872547",
        "colab": {
          "base_uri": "https://localhost:8080/"
        }
      },
      "execution_count": null,
      "outputs": [
        {
          "output_type": "stream",
          "name": "stdout",
          "text": [
            "['30-34' '30-34' '30-34' ... '45-49' '45-49' '45-49']\n"
          ]
        }
      ]
    },
    {
      "cell_type": "code",
      "source": [
        "np.unique(age_group)"
      ],
      "metadata": {
        "colab": {
          "base_uri": "https://localhost:8080/"
        },
        "id": "AL9Wlll7y7jS",
        "outputId": "4747c790-e1b1-484e-f871-3b87a3a1c9ff"
      },
      "execution_count": null,
      "outputs": [
        {
          "output_type": "execute_result",
          "data": {
            "text/plain": [
              "array(['30-34', '35-39', '40-44', '45-49'], dtype='<U11')"
            ]
          },
          "metadata": {},
          "execution_count": 37
        }
      ]
    },
    {
      "cell_type": "markdown",
      "source": [
        "The above Age groups were targeted "
      ],
      "metadata": {
        "id": "SZKxSSgCzCPF"
      }
    },
    {
      "cell_type": "code",
      "source": [
        "#determine the average, min and max amount spent on these ads\n",
        "#we start by pulling out the amount_spend column(index 8)\n",
        "amount_spend = data_fl[:,8]\n",
        "print(amount_spend)\n",
        "#average_amount = np.average(amount_spend)\n",
        "#print(average_amount)\n"
      ],
      "metadata": {
        "id": "_-xYDmlkuDb7",
        "colab": {
          "base_uri": "https://localhost:8080/"
        },
        "outputId": "9ac18eb3-24ce-498c-8dd0-ac482a2398b0"
      },
      "execution_count": null,
      "outputs": [
        {
          "output_type": "stream",
          "name": "stdout",
          "text": [
            "[  1.42999995   1.82000002   0.         ...  40.28999949 198.7100005\n",
            " 165.6099987 ]\n"
          ]
        }
      ]
    },
    {
      "cell_type": "code",
      "source": [
        "np.mean(amount_spend)"
      ],
      "metadata": {
        "colab": {
          "base_uri": "https://localhost:8080/"
        },
        "id": "xMcBiIg0vo3l",
        "outputId": "8ce78345-fd90-45f9-c8c9-158ad7d2d76f"
      },
      "execution_count": null,
      "outputs": [
        {
          "output_type": "execute_result",
          "data": {
            "text/plain": [
              "51.36065613141295"
            ]
          },
          "metadata": {},
          "execution_count": 45
        }
      ]
    },
    {
      "cell_type": "code",
      "source": [
        "np.max(amount_spend)"
      ],
      "metadata": {
        "colab": {
          "base_uri": "https://localhost:8080/"
        },
        "id": "n2XNmA4002zk",
        "outputId": "a5e96767-b8bb-436c-a6c3-1b032ede0d7e"
      },
      "execution_count": null,
      "outputs": [
        {
          "output_type": "execute_result",
          "data": {
            "text/plain": [
              "639.9499981"
            ]
          },
          "metadata": {},
          "execution_count": 46
        }
      ]
    },
    {
      "cell_type": "code",
      "source": [
        "np.min(amount_spend)"
      ],
      "metadata": {
        "colab": {
          "base_uri": "https://localhost:8080/"
        },
        "id": "3z6kc28J05jt",
        "outputId": "b52bcdef-5c97-45bc-9d9c-244040436f04"
      },
      "execution_count": null,
      "outputs": [
        {
          "output_type": "execute_result",
          "data": {
            "text/plain": [
              "0.0"
            ]
          },
          "metadata": {},
          "execution_count": 47
        }
      ]
    },
    {
      "cell_type": "code",
      "source": [
        "#pull out the number of clicks column and identify the maximum number of clicks\n",
        "clicks = np.array(data[:,7])\n",
        "print(clicks)\n",
        "max_clicks = clicks.max()\n",
        "print(max_clicks)"
      ],
      "metadata": {
        "colab": {
          "base_uri": "https://localhost:8080/"
        },
        "id": "6UMZdEWJ0Lw2",
        "outputId": "0c021787-c355-43ef-c10b-82a56fa45335"
      },
      "execution_count": null,
      "outputs": [
        {
          "output_type": "stream",
          "name": "stdout",
          "text": [
            "[  1   2   0 ...  28 135 114]\n",
            "421\n"
          ]
        }
      ]
    },
    {
      "cell_type": "code",
      "source": [
        "#identify the id that corresponds to the max number of clicks\n",
        "np.where(clicks==max_clicks)"
      ],
      "metadata": {
        "colab": {
          "base_uri": "https://localhost:8080/"
        },
        "id": "JfGGg1i-37eO",
        "outputId": "f0e2a97b-e7e8-43c8-9ada-8944f0f79d1f"
      },
      "execution_count": 76,
      "outputs": [
        {
          "output_type": "execute_result",
          "data": {
            "text/plain": [
              "(array([860]),)"
            ]
          },
          "metadata": {},
          "execution_count": 76
        }
      ]
    },
    {
      "cell_type": "markdown",
      "source": [
        "The maximum number of clicks has index 860"
      ],
      "metadata": {
        "id": "r-C5FgpDBDGr"
      }
    },
    {
      "cell_type": "code",
      "source": [
        "#identify the id that matches with the max number of clicks\n",
        "data[: ,0][data[:,7]==max_clicks]\n"
      ],
      "metadata": {
        "id": "U6zlphYLCNlL",
        "colab": {
          "base_uri": "https://localhost:8080/"
        },
        "outputId": "29812b12-7a2c-435e-b5ea-41eb4ed776aa"
      },
      "execution_count": 78,
      "outputs": [
        {
          "output_type": "execute_result",
          "data": {
            "text/plain": [
              "array([1121814])"
            ]
          },
          "metadata": {},
          "execution_count": 78
        }
      ]
    },
    {
      "cell_type": "code",
      "source": [
        "#number ofpeople who bought the product after seeing the max clicks\n",
        "data[:,10][data[:,7]== max_clicks]"
      ],
      "metadata": {
        "colab": {
          "base_uri": "https://localhost:8080/"
        },
        "id": "q6hI7V1_INmp",
        "outputId": "219dbe01-e436-4285-d899-8e13c6d73311"
      },
      "execution_count": 79,
      "outputs": [
        {
          "output_type": "execute_result",
          "data": {
            "text/plain": [
              "array([13])"
            ]
          },
          "metadata": {},
          "execution_count": 79
        }
      ]
    },
    {
      "cell_type": "code",
      "source": [
        "#find the max number of purchase\n",
        "max_bought = np.array(data[:,10])\n",
        "print(max_bought)\n",
        "max_bought_per_click = max_bought.max()\n",
        "print(max_bought_per_click)"
      ],
      "metadata": {
        "colab": {
          "base_uri": "https://localhost:8080/"
        },
        "id": "dLmB81HLJm7j",
        "outputId": "17019b33-53d6-4e2b-c2a3-5823da5fd02f"
      },
      "execution_count": 82,
      "outputs": [
        {
          "output_type": "stream",
          "name": "stdout",
          "text": [
            "[1 0 0 ... 0 2 2]\n",
            "21\n"
          ]
        }
      ]
    },
    {
      "cell_type": "markdown",
      "source": [
        "the ad for which the purchases are max is not the one with the max clicks\n"
      ],
      "metadata": {
        "id": "8Cqm2ZXTKo1O"
      }
    },
    {
      "cell_type": "code",
      "source": [
        "data[:][data[:,10]==21]"
      ],
      "metadata": {
        "colab": {
          "base_uri": "https://localhost:8080/"
        },
        "id": "DSqci73rKw2H",
        "outputId": "d05b80df-608f-4a9c-b3b6-b3f0c92f8cf0"
      },
      "execution_count": 83,
      "outputs": [
        {
          "output_type": "execute_result",
          "data": {
            "text/plain": [
              "array([[1121104,    1178,  144533,      -1,      -1,      16, 2080666,\n",
              "            202,      -1,      40,      21]])"
            ]
          },
          "metadata": {},
          "execution_count": 83
        }
      ]
    },
    {
      "cell_type": "markdown",
      "source": [
        "The above are the details of the ad with max number of purchases"
      ],
      "metadata": {
        "id": "ebWWEVJQLomn"
      }
    },
    {
      "cell_type": "code",
      "source": [
        ""
      ],
      "metadata": {
        "id": "rqmw_u4-LkCA"
      },
      "execution_count": null,
      "outputs": []
    }
  ]
}